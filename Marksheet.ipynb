{
 "cells": [
  {
   "cell_type": "code",
   "execution_count": 7,
   "metadata": {},
   "outputs": [
    {
     "name": "stdout",
     "output_type": "stream",
     "text": [
      "Enter Your Nameabdullah\n",
      "English Marks76\n",
      "Urdu Marks87\n",
      "Math Marks98\n",
      "Islamiyat Marks87\n",
      "Physics Marks76\n",
      "Chemistry Marks98\n"
     ]
    }
   ],
   "source": [
    "import csv\n",
    "name = input(\"Enter your name: \")\n",
    "englishMarks = float(input(\"English Marks\"))\n",
    "urduMarks = float(input(\"Urdu Marks\"))\n",
    "mathMarks = float(input(\"Math Marks\"))\n",
    "islamiyatMarks = float(input(\"Islamiyat Marks\"))\n",
    "physicsMarks = float(input(\"Physics Marks\"))\n",
    "chemistryMarks = float(input(\"Chemistry Marks\"))\n",
    "totalMarks = float(600)\n",
    "obtainMarks = englishMarks + urduMarks + mathMarks + islamiyatMarks + physicsMarks + chemistryMarks\n",
    "grade = ''\n",
    "\n",
    "totalPercentage = float(obtainMarks / totalMarks * 100)\n",
    "\n",
    "if(totalPercentage>=80):\n",
    "    grade='A+'\n",
    "elif(totalPercentage>=70 and totalPercentage<80):\n",
    "    grade='A'\n",
    "elif(totalPercentage>=60 and totalPercentage<70):\n",
    "    grade='B'\n",
    "elif(totalPercentage>=50 and totalPercentage<60):\n",
    "    grade='D'\n",
    "elif(totalPercentage>=40 and totalPercentage<50):\n",
    "    grade='E'\n",
    "else:\n",
    "    grade='F'\n",
    "\n",
    "\n",
    "userData = [name,englishMarks,urduMarks,mathMarks,islamiyatMarks,physicsMarks,chemistryMarks,obtainMarks,totalMarks,float(totalPercentage),userGrade]\n",
    "\n",
    "with open(\"MarkSheet.csv\",\"w\" ,newline=\"\") as f:\n",
    "\n",
    "        file_handler = csv.writer(f, delimiter=',')    \n",
    "        \n",
    "        file_handler.writerow([\"Name\",\"English\",\"Urdu\",\"Math\",\"Islamiyat\",\"Physics\",\"Chemistry\",\"Obtain Marks\",\"Total Marks\",\"Percentage\",\"Grade\"])\n",
    "        file_handler.writerow(userData)"
   ]
  },
  {
   "cell_type": "code",
   "execution_count": null,
   "metadata": {},
   "outputs": [],
   "source": []
  }
 ],
 "metadata": {
  "kernelspec": {
   "display_name": "Python 3",
   "language": "python",
   "name": "python3"
  },
  "language_info": {
   "codemirror_mode": {
    "name": "ipython",
    "version": 3
   },
   "file_extension": ".py",
   "mimetype": "text/x-python",
   "name": "python",
   "nbconvert_exporter": "python",
   "pygments_lexer": "ipython3",
   "version": "3.7.3"
  }
 },
 "nbformat": 4,
 "nbformat_minor": 2
}
