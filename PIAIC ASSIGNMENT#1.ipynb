{
 "cells": [
  {
   "cell_type": "code",
   "execution_count": 2,
   "metadata": {},
   "outputs": [
    {
     "name": "stdout",
     "output_type": "stream",
     "text": [
      "Enter radius: 5\n",
      "Area of circle is:  78.55\n"
     ]
    }
   ],
   "source": [
    "#1. Calculate Area of a Circle\n",
    "\n",
    "pi= 3.142\n",
    "rad = float(input(\"Enter radius: \"))\n",
    "print(\"Area of circle is: \",pi * (rad*rad))"
   ]
  },
  {
   "cell_type": "code",
   "execution_count": 6,
   "metadata": {},
   "outputs": [
    {
     "name": "stdout",
     "output_type": "stream",
     "text": [
      "Enter a number:0\n",
      "Zero Entered\n"
     ]
    }
   ],
   "source": [
    "\n",
    "#2. Check Number either positive, negative or zero\n",
    "\n",
    "n = int(input(\"Enter a number:\"))\n",
    "if n>0:\n",
    "    print(\"Positive Number Entered\")\n",
    "elif n==0:\n",
    "    print(\"Zero Entered\")\n",
    "else:\n",
    "    print(\"Negative Number Entered\")"
   ]
  },
  {
   "cell_type": "code",
   "execution_count": 8,
   "metadata": {},
   "outputs": [
    {
     "name": "stdout",
     "output_type": "stream",
     "text": [
      "Enter dividend: 42\n",
      "Enter divisor: 7\n",
      "Number 42 is completely divisible by 7\n"
     ]
    }
   ],
   "source": [
    "#3. Divisibility Check of two numbers\n",
    "\n",
    "dividend = int(input(\"Enter dividend: \"))\n",
    "divisor = int(input(\"Enter divisor: \"))\n",
    "if dividend%divisor==0:\n",
    "    print(\"Number\",dividend, \"is completely divisible by\",divisor)\n",
    "else:\n",
    "        print(\"Number\",dividend, \"is not completely divisible by\",divisor)"
   ]
  },
  {
   "cell_type": "code",
   "execution_count": 10,
   "metadata": {},
   "outputs": [
    {
     "name": "stdout",
     "output_type": "stream",
     "text": [
      "Enter a date in (dd/mm/yy) format: 12/12/2018\n",
      "Enter a date in (dd/mm/yy) format: 12/12/2018\n",
      "There are  0 days between  2018-12-12  and  2018-12-12\n"
     ]
    }
   ],
   "source": [
    "#4. Days Calculator\n",
    "\n",
    "from datetime import datetime\n",
    "\n",
    "startDate = input(\"Enter a date in (dd/mm/yyyy) format: \")\n",
    "endDate = input(\"Enter a date in (dd/mm/yyyy) format: \")\n",
    "\n",
    "finalstartDate = datetime.strptime(startDate,\"%d/%m/%Y\").date()\n",
    "finalendDate = datetime.strptime(endDate,\"%d/%m/%Y\").date()\n",
    "\n",
    "remainingDays = finalendDate - finalstartDate\n",
    "\n",
    "print (\"There are \", remainingDays.days, \"days between \", finalstartDate,\" and \",finalendDate)"
   ]
  },
  {
   "cell_type": "code",
   "execution_count": 15,
   "metadata": {},
   "outputs": [
    {
     "name": "stdout",
     "output_type": "stream",
     "text": [
      "Enter radius: 5\n",
      "Volume of the Sphere is:  523.6666666666666\n"
     ]
    }
   ],
   "source": [
    "#5. Calculate Volume Of Sphere\n",
    "\n",
    "pi= 3.142\n",
    "radius = float(input(\"Enter radius: \"))\n",
    "volume = (4/3)*pi*radius*radius*radius\n",
    "print(\"Volume of the Sphere is: \",volume)"
   ]
  },
  {
   "cell_type": "code",
   "execution_count": 20,
   "metadata": {},
   "outputs": [
    {
     "name": "stdout",
     "output_type": "stream",
     "text": [
      "Enter String: bo\n",
      "How many copies of String you need: 2\n",
      "bobo\n"
     ]
    }
   ],
   "source": [
    "#6. Copy String n times\n",
    "\n",
    "a = str(input(\"Enter String: \"))\n",
    "result = \"\"\n",
    "b = int(input(\"How many copies of string you need: \"))\n",
    "for i in range(b):\n",
    "    result+=a\n",
    "print(result)"
   ]
  },
  {
   "cell_type": "code",
   "execution_count": 21,
   "metadata": {},
   "outputs": [
    {
     "name": "stdout",
     "output_type": "stream",
     "text": [
      "Enter Number: 5\n",
      "5 is Odd\n"
     ]
    }
   ],
   "source": [
    "#7. Check If number is Even Or Odd\n",
    "\n",
    "num = int(input(\"Enter Number: \"))\n",
    "mod = num % 2\n",
    "if mod > 0:\n",
    "    print(num,\"is Odd\")\n",
    "else:\n",
    "    print(num,\"is Even\")"
   ]
  },
  {
   "cell_type": "code",
   "execution_count": 24,
   "metadata": {},
   "outputs": [
    {
     "name": "stdout",
     "output_type": "stream",
     "text": [
      "Enter a characterj\n",
      "j is not Vowel\n"
     ]
    }
   ],
   "source": [
    "#8. Vowel Tester\n",
    "\n",
    "vowels = ['A','E','I','O','U','a','e','i','o','u']\n",
    "\n",
    "userInput = input(\"Enter a character\")\n",
    "\n",
    "if userInput in vowels:\n",
    "    print(userInput, \"is vowel\")\n",
    "else:\n",
    "    print(userInput,\"is not vowel\")"
   ]
  },
  {
   "cell_type": "code",
   "execution_count": 25,
   "metadata": {},
   "outputs": [
    {
     "name": "stdout",
     "output_type": "stream",
     "text": [
      "Enter magnitude of triangle base: 4\n",
      "Enter magnitude of triangle Height: 5\n",
      "Area of a Triangle with Height  5.0  and Base  4.0  is:  10.0\n"
     ]
    }
   ],
   "source": [
    "#9. Triangle Area\n",
    "\n",
    "magBase = float(input(\"Enter magnitude of triangle base: \"))\n",
    "magHeight = float(input(\"Enter magnitude of triangle Height: \"))\n",
    "area = magBase*magHeight/2\n",
    "print(\"Area of a Triangle with Height \",magHeight, \" and Base \",magBase,\" is: \",area)"
   ]
  },
  {
   "cell_type": "code",
   "execution_count": 28,
   "metadata": {},
   "outputs": [
    {
     "name": "stdout",
     "output_type": "stream",
     "text": [
      "Please enter principal amount: 45\n",
      "Please Enter Rate of interest in %: 3\n",
      "Enter number of years for investment: 2\n",
      "720.0\n"
     ]
    }
   ],
   "source": [
    "#10. Calculate Interest\n",
    "\n",
    "p = float(input(\"Please enter principal amount: \"))\n",
    "r = float(input(\"Please Enter Rate of interest in %: \"))\n",
    "t = float(input(\"Enter number of years for investment: \"))\n",
    "#a = p* (1 + r/100)**2\n",
    "a = p* (pow((1 + r*100 / 100), t))\n",
    "print(a)"
   ]
  },
  {
   "cell_type": "code",
   "execution_count": 29,
   "metadata": {},
   "outputs": [
    {
     "name": "stdout",
     "output_type": "stream",
     "text": [
      "Enter co-ordinate For x1 :34\n",
      "Enter co-ordinate For x2 :55\n",
      "Enter co-ordinate For y1 :3\n",
      "Enter co-ordinate For y2 :22\n",
      "45.27692569068709\n"
     ]
    }
   ],
   "source": [
    "#11 Euclidean distcance\n",
    "import math\n",
    "\n",
    "x1 = int(input(\"Enter co-ordinate For x1 :\"))\n",
    "x2 = int(input(\"Enter co-ordinate For x2 :\"))\n",
    "y1 = int(input(\"Enter co-ordinate For y1 :\"))\n",
    "y2 = int(input(\"Enter co-ordinate For y2 :\"))\n",
    "\n",
    "distance = math.sqrt( ((x1-y1)**2)+((x2-y2)**2) )\n",
    "\n",
    "print(distance)"
   ]
  },
  {
   "cell_type": "code",
   "execution_count": 32,
   "metadata": {},
   "outputs": [
    {
     "name": "stdout",
     "output_type": "stream",
     "text": [
      "Enter Height in feet6\n",
      "There are  182.88  cm in  j  ft\n"
     ]
    }
   ],
   "source": [
    "#12. Feet to centimeter Converter\n",
    "\n",
    "userHeight = float(input(\"Enter Height in feet\"))\n",
    "\n",
    "totalCm = userHeight * 30.48\n",
    "\n",
    "print(\"There are \",totalCm , \" cm in \",userInput,\" ft\")"
   ]
  },
  {
   "cell_type": "code",
   "execution_count": 33,
   "metadata": {},
   "outputs": [
    {
     "name": "stdout",
     "output_type": "stream",
     "text": [
      "Enter Your Height in Cm23\n",
      "Enter Your Weight in kg23\n",
      "434.78260869565213\n"
     ]
    }
   ],
   "source": [
    "#13. BMI Calculator\n",
    "\n",
    "userHeight = float(input(\"Enter Your Height in Cm\"))\n",
    "userWeight = float(input(\"Enter Your Weight in kg\"))\n",
    "heightInMeters = userHeight * 0.01\n",
    "totalBmi = userWeight / (heightInMeters * heightInMeters)\n",
    "print(totalBmi)"
   ]
  },
  {
   "cell_type": "code",
   "execution_count": 35,
   "metadata": {},
   "outputs": [
    {
     "name": "stdout",
     "output_type": "stream",
     "text": [
      "Enter n 4\n",
      "10\n"
     ]
    }
   ],
   "source": [
    "#14. Sum of n Positive Number\n",
    "\n",
    "n =int(input(\"Enter n: \"))\n",
    "if n >=0:\n",
    "    total = int(n * (n + 1)/2)\n",
    "    print(total)\n",
    "else:\n",
    "    print(n,\" is not positive Number\")"
   ]
  },
  {
   "cell_type": "code",
   "execution_count": 36,
   "metadata": {},
   "outputs": [
    {
     "name": "stdout",
     "output_type": "stream",
     "text": [
      "Enter a Number12\n",
      "1 + 2\n",
      "Sum Of  1 + 2  is  3\n"
     ]
    }
   ],
   "source": [
    "#15. Digit sum of a Number\n",
    "\n",
    "number =int(input(\"Enter a number\"))\n",
    "sum = str(number)\n",
    "lst = list(sumnum)\n",
    "totalDigits = ' + '.join(sum)\n",
    "print(totalDigits)\n",
    "total = 0\n",
    "while number>0:\n",
    "    digit = number%10\n",
    "    total = total+digit\n",
    "    number = number//10\n",
    "print(\"Sum Of \", totalDigits, \" is \", total)"
   ]
  },
  {
   "cell_type": "code",
   "execution_count": 1,
   "metadata": {},
   "outputs": [
    {
     "name": "stdout",
     "output_type": "stream",
     "text": [
      "Enter a decimal number 76\n",
      "Binary Representation of  76  is  11001 "
     ]
    }
   ],
   "source": [
    "#16 Decimal To Binary Converter\n",
    "\n",
    "decimalNumber = int(input(\"Enter a decimal number \"))\n",
    "finalDecimalNumber = decimalNumber\n",
    "\n",
    "array=[]\n",
    "\n",
    "while(decimalNumber>0):\n",
    "    digit=decimalNumber%2\n",
    "    array.append(digit)\n",
    "    decimalNumber=decimalNumber//2\n",
    "    \n",
    "    s = [str(i) for i in array] \n",
    "      \n",
    "    res = int(\"\".join(s))     \n",
    "array.reverse()\n",
    "\n",
    "print(\"Binary Representation of \", finalDecimalNumber,\" is \",res,end=\" \")"
   ]
  },
  {
   "cell_type": "code",
   "execution_count": 2,
   "metadata": {},
   "outputs": [
    {
     "name": "stdout",
     "output_type": "stream",
     "text": [
      "Enter a Binary number 0110\n",
      "Decimal Representation of  0110  is  6\n"
     ]
    }
   ],
   "source": [
    "#17. Binary To Decimal Converter\n",
    "\n",
    "binaryNumber = input(\"Enter a Binary number \")\n",
    "binaryNumberList = list(binaryNumber)\n",
    "defaultValue = 0\n",
    "actualNumber = str(binaryNumber)\n",
    "\n",
    "\n",
    "\n",
    "for d in range(len(binaryNumberList)):\n",
    "    numbers = binaryNumberList.pop()\n",
    "    if numbers == '1':\n",
    "        defaultValue = defaultValue + pow(2, d)\n",
    "print(\"Decimal Representation of \", actualNumber,\" is \" ,defaultValue)"
   ]
  },
  {
   "cell_type": "code",
   "execution_count": 3,
   "metadata": {},
   "outputs": [
    {
     "name": "stdout",
     "output_type": "stream",
     "text": [
      "Enter Text Osama\n",
      "Vowels :  3\n",
      "Consonants :  2\n"
     ]
    }
   ],
   "source": [
    "#18. Vowel and Consonants Counter \n",
    "\n",
    "userInput = input(\"Enter Text \")\n",
    "vowels = 0\n",
    "consonants = 0\n",
    "for i in userInput:\n",
    "    if(i == 'a' or i == 'e' or i == 'i' or i == 'o' or i == 'u'\n",
    "       or i == 'A' or i == 'E' or i == 'I' or i == 'O' or i == 'U'):\n",
    "        vowels = vowels + 1\n",
    "    else:\n",
    "        consonants = consonants + 1\n",
    "print(\"Vowels : \",vowels)\n",
    "print(\"Consonants : \",consonants)"
   ]
  },
  {
   "cell_type": "code",
   "execution_count": 5,
   "metadata": {},
   "outputs": [
    {
     "name": "stdout",
     "output_type": "stream",
     "text": [
      "Enter text: maham\n",
      "Text  maham  is Palindrome\n"
     ]
    }
   ],
   "source": [
    "#19. Palindrome tester \n",
    "\n",
    "userInput = input(\"Enter text: \")\n",
    "palindrome = userInput[::-1]\n",
    "if userInput == palindrome:\n",
    "    print(\"Text \" , userInput,\" is Palindrome\")\n",
    "else:\n",
    "    print(\"Text \" , userInput,\" is not Palindrome\")"
   ]
  },
  {
   "cell_type": "code",
   "execution_count": 6,
   "metadata": {},
   "outputs": [
    {
     "name": "stdout",
     "output_type": "stream",
     "text": [
      "Please Enter your Own String : My name is Osama\n",
      "\n",
      "Total Number of Alphabets in this String :   13\n",
      "Total Number of Digits in this String :   0\n",
      "Total Number of Special Characters in this String :   0\n",
      "Total Number of Spaces in this String :   3\n"
     ]
    }
   ],
   "source": [
    "#20. Count Alphabets, Numbers and Special Characters  \n",
    "\n",
    "userInput = input(\"Please Enter your Own String : \")\n",
    "alphabets = digits = special = 0\n",
    "spaces = userInput.count(' ')\n",
    "for i in range(len(userInput)):\n",
    "    if(userInput[i].isalpha()):\n",
    "        alphabets = alphabets + 1\n",
    "    elif(userInput[i].isdigit()):\n",
    "        digits = digits + 1\n",
    "    else:\n",
    "        special = special + 1\n",
    "\n",
    "specialCharacter = special - spaces\n",
    "print(\"\\nTotal Number of Alphabets in this String :  \", alphabets)\n",
    "print(\"Total Number of Digits in this String :  \", digits)\n",
    "print(\"Total Number of Special Characters in this String :  \", specialCharacter) \n",
    "print(\"Total Number of Spaces in this String :  \", spaces)"
   ]
  },
  {
   "cell_type": "code",
   "execution_count": 1,
   "metadata": {},
   "outputs": [
    {
     "name": "stdout",
     "output_type": "stream",
     "text": [
      "Enter a number: 8\n",
      "\n",
      "* \n",
      "* * \n",
      "* * * \n",
      "* * * * \n",
      "* * * * * \n",
      "* * * * * * \n",
      "* * * * * * * \n",
      "* * * * * * * * \n",
      "* * * * * * * \n",
      "* * * * * * \n",
      "* * * * * \n",
      "* * * * \n",
      "* * * \n",
      "* * \n",
      "* \n"
     ]
    }
   ],
   "source": [
    "#21. Pattern 1\n",
    "\n",
    "number=int(input('Enter a number: '));\n",
    "for i in range(number):\n",
    "    for j in range(i):\n",
    "        print ('* ', end=\"\")\n",
    "        \n",
    "    print('')\n",
    "\n",
    "for i in range(number,0,-1):\n",
    "    for j in range(i):\n",
    "        print('* ', end=\"\")\n",
    "    print('')"
   ]
  },
  {
   "cell_type": "code",
   "execution_count": 5,
   "metadata": {},
   "outputs": [
    {
     "name": "stdout",
     "output_type": "stream",
     "text": [
      "Enter a number: 4\n",
      "\n",
      "1\n",
      "12\n",
      "123\n",
      "1234\n",
      "123\n",
      "12\n",
      "1\n"
     ]
    }
   ],
   "source": [
    "#22.  Pattern 2 \n",
    "\n",
    "number=int(input('Enter a number: '));\n",
    "random = 1\n",
    "for i in range(number):\n",
    "    for j in range(i):\n",
    "        print (j+1, end=\"\")\n",
    "    print('')\n",
    "\n",
    "for i in range(number,0,-1):\n",
    "    for j in range(i):\n",
    "        print(j+1, end=\"\")\n",
    "    print('')"
   ]
  },
  {
   "cell_type": "code",
   "execution_count": 10,
   "metadata": {},
   "outputs": [
    {
     "name": "stdout",
     "output_type": "stream",
     "text": [
      "Enter a number: 6\n",
      "\n",
      "1\n",
      "22\n",
      "333\n",
      "4444\n",
      "55555\n",
      "666666\n"
     ]
    }
   ],
   "source": [
    "#23. Pattern 3\n",
    "\n",
    "number=int(input('Enter a number: '));\n",
    "for i in range(number+1):\n",
    "    print(str(i) * i)"
   ]
  },
  {
   "cell_type": "code",
   "execution_count": null,
   "metadata": {},
   "outputs": [],
   "source": []
  }
 ],
 "metadata": {
  "kernelspec": {
   "display_name": "Python 3",
   "language": "python",
   "name": "python3"
  },
  "language_info": {
   "codemirror_mode": {
    "name": "ipython",
    "version": 3
   },
   "file_extension": ".py",
   "mimetype": "text/x-python",
   "name": "python",
   "nbconvert_exporter": "python",
   "pygments_lexer": "ipython3",
   "version": "3.7.3"
  }
 },
 "nbformat": 4,
 "nbformat_minor": 2
}
