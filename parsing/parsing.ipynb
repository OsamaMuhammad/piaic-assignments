{
 "cells": [
  {
   "cell_type": "code",
   "execution_count": 13,
   "metadata": {},
   "outputs": [
    {
     "name": "stdout",
     "output_type": "stream",
     "text": [
      "Number of words:  81\n",
      "Number of lines:  36\n",
      "Number of characters:  478\n",
      "Number of non Space Characters:  413\n",
      "Number of spaces:  65\n",
      "Number of no Of tabs:  0\n",
      "Number of total Tags:  10\n"
     ]
    }
   ],
   "source": [
    "# Count Tags In HTML File\n",
    "with open(\"example_html_file.html\", \"r\") as f:\n",
    "    lines=0\n",
    "    words=0\n",
    "    characters=0\n",
    "    for line in f:\n",
    "        wordslist=line.split()\n",
    "        lines=lines+1\n",
    "        words=words+len(wordslist)\n",
    "        characters += sum(len(word) for word in wordslist)\n",
    "    print('Number of words: ',words)\n",
    "    print('Number of lines: ',lines)\n",
    "    print('Number of characters: ',characters)\n",
    "    \n",
    "    \n",
    "with open(\"example_html_file.html\", \"r\") as f:    \n",
    "    fileContent = f.read()\n",
    "    spaces=fileContent.count(' ')\n",
    "  \n",
    "    nonSpaceCharacters=characters-spaces\n",
    "    print('Number of non Space Characters: ',nonSpaceCharacters)\n",
    "    print('Number of spaces: ',spaces)\n",
    "    noOftabs=fileContent.count('\\t')\n",
    "    print('Number of no Of tabs: ',noOftabs)\n",
    "    pairedTags = fileContent.count('</')\n",
    "    unPairedTags = fileContent.count('/>')\n",
    "    totalTags = pairedTags + unPairedTags\n",
    "    print('Number of total Tags: ',totalTags)\n",
    "\n"
   ]
  },
  {
   "cell_type": "code",
   "execution_count": null,
   "metadata": {},
   "outputs": [],
   "source": []
  },
  {
   "cell_type": "code",
   "execution_count": null,
   "metadata": {},
   "outputs": [],
   "source": []
  },
  {
   "cell_type": "code",
   "execution_count": null,
   "metadata": {},
   "outputs": [],
   "source": []
  },
  {
   "cell_type": "code",
   "execution_count": null,
   "metadata": {},
   "outputs": [],
   "source": []
  }
 ],
 "metadata": {
  "kernelspec": {
   "display_name": "Python 3",
   "language": "python",
   "name": "python3"
  },
  "language_info": {
   "codemirror_mode": {
    "name": "ipython",
    "version": 3
   },
   "file_extension": ".py",
   "mimetype": "text/x-python",
   "name": "python",
   "nbconvert_exporter": "python",
   "pygments_lexer": "ipython3",
   "version": "3.7.3"
  }
 },
 "nbformat": 4,
 "nbformat_minor": 2
}
